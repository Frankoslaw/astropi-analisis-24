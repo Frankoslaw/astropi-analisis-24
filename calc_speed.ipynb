{
 "cells": [
  {
   "cell_type": "code",
   "execution_count": 1,
   "metadata": {},
   "outputs": [],
   "source": [
    "from exif import Image\n",
    "from datetime import datetime\n",
    "import cv2\n",
    "import math\n",
    "import os"
   ]
  },
  {
   "cell_type": "code",
   "execution_count": 2,
   "metadata": {},
   "outputs": [],
   "source": [
    "from tqdm import tqdm\n",
    "import numpy as np\n",
    "import matplotlib.pyplot as plt "
   ]
  },
  {
   "cell_type": "code",
   "execution_count": 3,
   "metadata": {},
   "outputs": [],
   "source": [
    "def get_time(image):\n",
    "    with open(image, 'rb') as image_file:\n",
    "        img = Image(image_file)\n",
    "        time_str = img.get(\"datetime_original\")\n",
    "        time = datetime.strptime(time_str, '%Y:%m:%d %H:%M:%S')\n",
    "    return time\n",
    "\n",
    "\n",
    "def get_time_difference(image_1, image_2):\n",
    "    time_1 = get_time(image_1)\n",
    "    time_2 = get_time(image_2)\n",
    "    time_difference = time_2 - time_1\n",
    "    return time_difference.seconds"
   ]
  },
  {
   "cell_type": "code",
   "execution_count": 4,
   "metadata": {},
   "outputs": [],
   "source": [
    "def calculate_features(image1, image2, mask1, mask2):\n",
    "    sift = cv2.SIFT_create()\n",
    "    kp1, des1 = sift.detectAndCompute(image1, mask1)\n",
    "    kp2, des2 = sift.detectAndCompute(image2, mask2)\n",
    "    return kp1, kp2, des1, des2\n",
    "\n",
    "\n",
    "def calculate_matches(des1, des2):\n",
    "    bf = cv2.BFMatcher()\n",
    "    matches = bf.knnMatch(des1,des2,k=2)\n",
    "\n",
    "    good = []\n",
    "    for m,n in matches:\n",
    "        if m.distance < 0.75*n.distance:\n",
    "            good.append([m])\n",
    "\n",
    "    return good"
   ]
  },
  {
   "cell_type": "code",
   "execution_count": 5,
   "metadata": {},
   "outputs": [],
   "source": [
    "def display_matches(img1, kp1, img2, kp2, good):\n",
    "    match_img = cv2.drawMatchesKnn(img1,kp1,img2,kp2,good,None,flags=cv2.DrawMatchesFlags_NOT_DRAW_SINGLE_POINTS)\n",
    "    plt.axis('off')\n",
    "    plt.imshow(match_img)"
   ]
  },
  {
   "cell_type": "code",
   "execution_count": 6,
   "metadata": {},
   "outputs": [],
   "source": [
    "def find_matching_coordinates(keypoints_1, keypoints_2, matches):\n",
    "    coordinates_1 = []\n",
    "    coordinates_2 = []\n",
    "    for match2 in matches:\n",
    "        for match in match2:\n",
    "            image_1_idx = match.queryIdx\n",
    "            image_2_idx = match.trainIdx\n",
    "            (x1,y1) = keypoints_1[image_1_idx].pt\n",
    "            (x2,y2) = keypoints_2[image_2_idx].pt\n",
    "            coordinates_1.append((x1,y1))\n",
    "        coordinates_2.append((x2,y2))\n",
    "    return coordinates_1, coordinates_2\n"
   ]
  },
  {
   "cell_type": "code",
   "execution_count": 7,
   "metadata": {},
   "outputs": [],
   "source": [
    "def calculate_mean_distance(coordinates_1, coordinates_2):\n",
    "    all_distances = 0\n",
    "    merged_coordinates = list(zip(coordinates_1, coordinates_2))\n",
    "    for coordinate in merged_coordinates:\n",
    "        x_difference = coordinate[0][0] - coordinate[1][0]\n",
    "        y_difference = coordinate[0][1] - coordinate[1][1]\n",
    "        distance = math.hypot(x_difference, y_difference)\n",
    "        all_distances = all_distances + distance\n",
    "    return all_distances / len(merged_coordinates)"
   ]
  },
  {
   "cell_type": "code",
   "execution_count": 8,
   "metadata": {},
   "outputs": [],
   "source": [
    "def calculate_speed_in_kmps(feature_distance, GSD, time_difference):\n",
    "    distance = feature_distance * GSD / 100000\n",
    "    speed = distance / time_difference\n",
    "    return speed"
   ]
  },
  {
   "cell_type": "code",
   "execution_count": 9,
   "metadata": {},
   "outputs": [],
   "source": [
    "def generate_successor(filename):\n",
    "    reversed_filename = list(filename[::-1])\n",
    "\n",
    "    for idx, c in enumerate(reversed_filename):\n",
    "        if str(c).isdigit():\n",
    "            if int(c) + 1 > 9:\n",
    "                reversed_filename[idx] = str(0)\n",
    "                reversed_filename[idx + 1] = str(int(c) + 1)\n",
    "            else:\n",
    "                reversed_filename[idx] = str(int(c) + 1)\n",
    "\n",
    "            return \"\".join(reversed_filename[::-1])"
   ]
  },
  {
   "cell_type": "code",
   "execution_count": 13,
   "metadata": {},
   "outputs": [],
   "source": [
    "sum = 0.0\n",
    "count = 0.0"
   ]
  },
  {
   "cell_type": "code",
   "execution_count": 17,
   "metadata": {},
   "outputs": [
    {
     "name": "stdout",
     "output_type": "stream",
     "text": [
      "image: ./photos/photo_05516.jpg speed: 6.615041405721138\n",
      "image: ./photos/photo_01934.jpg speed: 8.243634310909158\n",
      "image: ./photos/photo_0681.jpg speed: 7.915829159985437\n",
      "image: ./photos/photo_01930.jpg speed: 6.772319792263938\n",
      "image: ./photos/photo_0677.jpg speed: 7.3077367239119075\n",
      "image: ./photos/photo_05515.jpg speed: 7.0753788896506995\n",
      "image: ./photos/photo_01932.jpg speed: 7.340062568181235\n",
      "image: ./photos/photo_0676.jpg speed: 7.539172291075731\n",
      "image: ./photos/photo_0678.jpg speed: 6.960660573672518\n",
      "image: ./photos/photo_07004.jpg speed: 8.072541216460772\n",
      "image: ./photos/photo_0683.jpg speed: 7.2237045630472885\n",
      "image: ./photos/photo_0684.jpg speed: 6.864836311076676\n",
      "image: ./photos/photo_00154.jpg speed: 8.736475583046573\n",
      "image: ./photos/photo_06312.jpg speed: 6.981731595326721\n",
      "image: ./photos/photo_07003.jpg speed: 6.776075118925654\n",
      "image: ./photos/photo_01933.jpg speed: 7.084900540987932\n",
      "image: ./photos/photo_0685.jpg speed: 8.246156982968191\n",
      "image: ./photos/photo_0674.jpg speed: 7.760983637692994\n",
      "image: ./photos/photo_0686.jpg speed: 8.056075688878899\n",
      "image: ./photos/photo_0673.jpg speed: 7.914200295399321\n",
      "image: ./photos/photo_0682.jpg speed: 8.5406687169791\n",
      "image: ./photos/photo_0675.jpg speed: 8.35751137859141\n",
      "image: ./photos/photo_0680.jpg speed: 7.363594241898454\n"
     ]
    }
   ],
   "source": [
    "for file in os.listdir(\"./masks\"):\n",
    "    if file == \"calc_speed.py\":\n",
    "        continue\n",
    "\n",
    "    mask1_name = \"./masks/\" + file\n",
    "    mask2_name = \"./masks/\" + generate_successor(file)\n",
    "\n",
    "    image1_name = \"./photos/\" + file\n",
    "    image2_name = \"./photos/\" + generate_successor(file)\n",
    "\n",
    "    if os.path.isfile(image2_name):\n",
    "        time_difference = get_time_difference(image1_name, image2_name) # Get time difference between images\n",
    "        \n",
    "        mask1 = cv2.imread(mask1_name)\n",
    "        mask2 = cv2.imread(mask2_name)\n",
    "\n",
    "        mask1 = np.sum(mask1, axis=2) > 350\n",
    "        mask1 = np.uint8(mask1)  \n",
    "        mask2 = np.sum(mask2, axis=2) > 350\n",
    "        mask2 = np.uint8(mask2)  \n",
    "\n",
    "        image1 = cv2.imread(image1_name)\n",
    "        image2 = cv2.imread(image2_name)\n",
    "\n",
    "        image1 = cv2.bitwise_and(image1, image1, mask=mask1)\n",
    "        image2 = cv2.bitwise_and(image2, image2, mask=mask2)\n",
    "\n",
    "        keypoints_1, keypoints_2, descriptors_1, descriptors_2 = calculate_features(image1, image2, mask1, mask2) # Get keypoints and descriptors\n",
    "        matches = calculate_matches(descriptors_1, descriptors_2) # Match descriptors\n",
    "        # display_matches(image1_cv, keypoints_1, image2_cv, keypoints_2, matches)\n",
    "\n",
    "        coordinates_1, coordinates_2 = find_matching_coordinates(keypoints_1, keypoints_2, matches)\n",
    "        average_feature_distance = calculate_mean_distance(coordinates_1, coordinates_2)\n",
    "        speed = calculate_speed_in_kmps(average_feature_distance, 12648, time_difference)\n",
    "    \n",
    "        if(speed > 6 and speed < 9):\n",
    "            print(\"image: \" + image1_name + \" speed: \" + str(speed))\n",
    "            sum += speed\n",
    "            count += 1"
   ]
  },
  {
   "cell_type": "code",
   "execution_count": 18,
   "metadata": {},
   "outputs": [
    {
     "data": {
      "text/plain": [
       "6.231293110020337"
      ]
     },
     "execution_count": 18,
     "metadata": {},
     "output_type": "execute_result"
    }
   ],
   "source": [
    "sum / count"
   ]
  }
 ],
 "metadata": {
  "kernelspec": {
   "display_name": "Python 3",
   "language": "python",
   "name": "python3"
  },
  "language_info": {
   "codemirror_mode": {
    "name": "ipython",
    "version": 3
   },
   "file_extension": ".py",
   "mimetype": "text/x-python",
   "name": "python",
   "nbconvert_exporter": "python",
   "pygments_lexer": "ipython3",
   "version": "3.11.7"
  }
 },
 "nbformat": 4,
 "nbformat_minor": 2
}
